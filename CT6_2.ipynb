{
  "nbformat": 4,
  "nbformat_minor": 0,
  "metadata": {
    "colab": {
      "provenance": [],
      "authorship_tag": "ABX9TyMryiR+b1RjERORAtx7pSQi",
      "include_colab_link": true
    },
    "kernelspec": {
      "name": "python3",
      "display_name": "Python 3"
    },
    "language_info": {
      "name": "python"
    }
  },
  "cells": [
    {
      "cell_type": "markdown",
      "metadata": {
        "id": "view-in-github",
        "colab_type": "text"
      },
      "source": [
        "<a href=\"https://colab.research.google.com/github/jokguking123/-/blob/main/CT6_2.ipynb\" target=\"_parent\"><img src=\"https://colab.research.google.com/assets/colab-badge.svg\" alt=\"Open In Colab\"/></a>"
      ]
    },
    {
      "cell_type": "code",
      "execution_count": null,
      "metadata": {
        "id": "jspeGTAfXXxi"
      },
      "outputs": [],
      "source": [
        "학생 10명의 성적을 입력받아 평균을 계산하는 알고리즘을 의사코드로 표현해 보자"
      ]
    },
    {
      "cell_type": "code",
      "source": [
        "total = 0                                             # 총점\n",
        "counter = 1                                           # 입력된 성적 수를 세는 변수, 1부터 시작\n",
        "while counter <= 10:                                  # 사용자로부터 10개의 성적 입력 받기\n",
        "    grade = int(input(\"성적을 입력하세요: \"))         # 사용자로부터 성적 입력 받기 \n",
        "    total = total + grade                             # 입력된 성적을 총점에 더하기\n",
        "    counter = counter + 1                             # 입력된 성적 수 카운트하기\n",
        "average = total / 10 \n",
        "print(average)"
      ],
      "metadata": {
        "id": "4jlYzqaMYbdp"
      },
      "execution_count": null,
      "outputs": []
    }
  ]
}